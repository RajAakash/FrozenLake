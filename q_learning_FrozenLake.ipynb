{
 "cells": [
  {
   "cell_type": "code",
   "execution_count": 1,
   "id": "016f5217",
   "metadata": {},
   "outputs": [
    {
     "name": "stdout",
     "output_type": "stream",
     "text": [
      "Trained Q-table:\n",
      "[[0.78275779 0.8153727  0.8153727  0.78275779]\n",
      " [0.78275779 0.         0.84934656 0.8153727 ]\n",
      " [0.8153727  0.884736   0.8153727  0.84934656]\n",
      " [0.84934656 0.         0.8153727  0.8153727 ]\n",
      " [0.8153727  0.84934656 0.         0.78275779]\n",
      " [0.         0.         0.         0.        ]\n",
      " [0.         0.9216     0.         0.84934656]\n",
      " [0.         0.         0.         0.        ]\n",
      " [0.84934656 0.         0.884736   0.8153727 ]\n",
      " [0.84934656 0.9216     0.9216     0.        ]\n",
      " [0.884736   0.96       0.         0.884736  ]\n",
      " [0.         0.         0.         0.        ]\n",
      " [0.         0.         0.         0.        ]\n",
      " [0.         0.9216     0.96       0.884736  ]\n",
      " [0.9216     0.96       1.         0.9216    ]\n",
      " [0.         0.         0.         0.        ]]\n"
     ]
    }
   ],
   "source": [
    "import gymnasium as gym\n",
    "import numpy as np\n",
    "\n",
    "# Create environment\n",
    "env = gym.make(\"FrozenLake-v1\", is_slippery=False)\n",
    "\n",
    "# Initialize Q-table\n",
    "state_size = env.observation_space.n\n",
    "action_size = env.action_space.n\n",
    "Q = np.zeros((state_size, action_size))\n",
    "\n",
    "# Hyperparameters\n",
    "alpha = 0.8       # learning rate\n",
    "gamma = 0.96      # discount factor\n",
    "epsilon = 1.0     # exploration rate\n",
    "epsilon_decay = 0.9995\n",
    "epsilon_min = 0.01\n",
    "episodes = 5000\n",
    "max_steps = 100\n",
    "\n",
    "# Training loop\n",
    "for episode in range(episodes):\n",
    "    state, info = env.reset()   # Gymnasium reset returns (obs, info)\n",
    "    done = False\n",
    "    \n",
    "    for _ in range(max_steps):\n",
    "        # Epsilon-greedy action selection\n",
    "        if np.random.rand() < epsilon:\n",
    "            action = env.action_space.sample()\n",
    "        else:\n",
    "            action = np.argmax(Q[state])\n",
    "\n",
    "        # Take action\n",
    "        next_state, reward, terminated, truncated, info = env.step(action)\n",
    "        done = terminated or truncated  # Gymnasium splits \"done\" into two flags\n",
    "\n",
    "        # Q-learning update\n",
    "        best_next_action = np.argmax(Q[next_state])\n",
    "        Q[state, action] = Q[state, action] + alpha * (\n",
    "            reward + gamma * Q[next_state, best_next_action] - Q[state, action]\n",
    "        )\n",
    "\n",
    "        state = next_state\n",
    "        if done:\n",
    "            break\n",
    "\n",
    "    # Decay epsilon\n",
    "    if epsilon > epsilon_min:\n",
    "        epsilon *= epsilon_decay\n",
    "\n",
    "print(\"Trained Q-table:\")\n",
    "print(Q)"
   ]
  },
  {
   "cell_type": "code",
   "execution_count": 2,
   "id": "09610ff7",
   "metadata": {},
   "outputs": [
    {
     "name": "stdout",
     "output_type": "stream",
     "text": [
      "Win rate over 100 episodes: 100.00%\n"
     ]
    }
   ],
   "source": [
    "wins = 0\n",
    "episodes = 100\n",
    "\n",
    "for _ in range(episodes):\n",
    "    state, info = env.reset()\n",
    "    done = False\n",
    "    while not done:\n",
    "        action = np.argmax(Q[state])  # exploit learned policy\n",
    "        state, reward, terminated, truncated, info = env.step(action)\n",
    "        done = terminated or truncated\n",
    "    wins += reward\n",
    "\n",
    "print(f\"Win rate over {episodes} episodes: {wins/episodes * 100:.2f}%\")"
   ]
  },
  {
   "cell_type": "code",
   "execution_count": 3,
   "id": "05a7c5e1",
   "metadata": {},
   "outputs": [
    {
     "data": {
      "image/png": "[encoded data removed]",
      "text/plain": [
       "<Figure size 600x600 with 1 Axes>"
      ]
     },
     "metadata": {},
     "output_type": "display_data"
    }
   ],
   "source": [
    "import matplotlib.pyplot as plt\n",
    "import numpy as np\n",
    "\n",
    "# Define FrozenLake grid\n",
    "grid = [\n",
    "    [\"S\", \"F\", \"F\", \"F\"],\n",
    "    [\"F\", \"H\", \"F\", \"H\"],\n",
    "    [\"F\", \"F\", \"F\", \"H\"],\n",
    "    [\"H\", \"F\", \"F\", \"G\"]\n",
    "]\n",
    "\n",
    "# Extract greedy policy from Q-table\n",
    "policy = np.argmax(Q, axis=1)\n",
    "\n",
    "# Map actions to arrows\n",
    "action_arrows = {0:\"←\", 1:\"↓\", 2:\"→\", 3:\"↑\"}\n",
    "\n",
    "# Draw FrozenLake grid with policy arrows\n",
    "fig, ax = plt.subplots(figsize=(6,6))\n",
    "state = 0\n",
    "for i in range(4):\n",
    "    for j in range(4):\n",
    "        ax.add_patch(plt.Rectangle((j, 3-i), 1, 1, fill=False))\n",
    "        ax.text(j+0.5, 3-i+0.7, str(state), ha=\"center\", va=\"center\", fontsize=10, color=\"blue\")\n",
    "        ax.text(j+0.5, 3-i+0.4, grid[i][j], ha=\"center\", va=\"center\", fontsize=12, fontweight=\"bold\")\n",
    "        if grid[i][j] not in [\"H\", \"G\"]:  # no arrows in holes or goal\n",
    "            ax.text(j+0.5, 3-i+0.1, action_arrows[policy[state]], \n",
    "                    ha=\"center\", va=\"center\", fontsize=16, color=\"red\")\n",
    "        state += 1\n",
    "\n",
    "ax.set_xlim(0,4)\n",
    "ax.set_ylim(0,4)\n",
    "ax.set_xticks([])\n",
    "ax.set_yticks([])\n",
    "ax.set_title(\"FrozenLake 4x4: Learned Policy from Q-table\", fontsize=14)\n",
    "plt.show()\n"
   ]
  }
 ],
 "metadata": {
  "kernelspec": {
   "display_name": "dev",
   "language": "python",
   "name": "python3"
  },
  "language_info": {
   "codemirror_mode": {
    "name": "ipython",
    "version": 3
   },
   "file_extension": ".py",
   "mimetype": "text/x-python",
   "name": "python",
   "nbconvert_exporter": "python",
   "pygments_lexer": "ipython3",
   "version": "3.9.12"
  }
 },
 "nbformat": 4,
 "nbformat_minor": 5
}
